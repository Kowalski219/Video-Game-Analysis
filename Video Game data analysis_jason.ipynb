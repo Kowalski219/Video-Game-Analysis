{
 "cells": [
  {
   "cell_type": "code",
   "execution_count": null,
   "metadata": {
    "vscode": {
     "languageId": "sql"
    }
   },
   "outputs": [],
   "source": [
    "-- Active: 1688313602053@@127.0.0.1@5432@Video_game@video_game\n"
   ]
  },
  {
   "attachments": {},
   "cell_type": "markdown",
   "metadata": {},
   "source": [
    "VIDEO GAME DATA ANALYSIS"
   ]
  },
  {
   "attachments": {},
   "cell_type": "markdown",
   "metadata": {},
   "source": [
    "PLATFORMS WITH THE HIGHEST NUMBER OF GAMES "
   ]
  },
  {
   "cell_type": "code",
   "execution_count": null,
   "metadata": {
    "vscode": {
     "languageId": "sql"
    }
   },
   "outputs": [],
   "source": [
    "-- Active: 1688313602053@@127.0.0.1@5432@Video_game@video_game\n",
    "SELECT platform, COUNT(*) AS num_of_games\n",
    "FROM video_game\n",
    "GROUP BY platform\n",
    "ORDER BY num_of_games DESC;\n",
    "\n",
    "\n"
   ]
  },
  {
   "attachments": {},
   "cell_type": "markdown",
   "metadata": {},
   "source": [
    "PC (Personal Computer):\n",
    "PC stands out as the leading platform with an impressive count of 80,803 games. This dominance is likely due to the open nature of the PC platform, making it a favored choice for both game developers and players. The vast and diverse library on PC is a testament to its flexibility and accessibility.\n",
    "\n",
    "iOS:\n",
    "The iOS platform, catering to Apple devices, boasts 12,247 games. This substantial figure aligns with the widespread adoption of smartphones and tablets, making iOS a prime platform for mobile gaming. The convenience and portability of iOS devices have contributed to the platform's popularity among gamers.\n",
    "\n",
    "Switch:\n",
    "Nintendo's Switch platform has garnered a notable presence with 9,718 games. Despite being a relatively newer console compared to some competitors, the Switch has captured the gaming community's attention with its unique hybrid design and diverse game offerings.\n",
    "\n",
    "PlayStation 4 and Xbox One:\n",
    "Both the PS4 and Xbox One platforms showcase strong numbers, with 9,133 and 7,018 games respectively. These consoles have maintained their relevance through compelling game libraries and consistent support from developers.\n",
    "\n",
    "PlayStation 3 and Xbox 360:\n",
    "The PS3 (3,149) and Xbox 360 (2,963) maintain a significant presence, highlighting their impact during their respective eras. The enduring popularity of these consoles is evident in their game counts.\n",
    "\n",
    "DS and Wii:\n",
    "The Nintendo DS platform remains influential with 2,359 games, demonstrating its sustained appeal among handheld gaming enthusiasts. The Wii, even though older, boasts 2,039 games, a reflection of its innovative motion-based gameplay that resonated with a broad audience.\n",
    "\n",
    "PlayStation 5 and PlayStation 2:\n",
    "The newer PS5 platform has rapidly accumulated 1,919 games, showcasing its strong start in the gaming landscape. On the other hand, the PS2's 1,830 games testify to its historic significance as one of the most beloved gaming platforms of its time.\n",
    "\n",
    "Other Platforms:\n",
    "A variety of other platforms, such as the PlayStation Vita, Xbox Series X, 3DS, and PSP, each contribute to the gaming ecosystem with their respective game counts. These figures underscore their roles in providing diverse gaming experiences.\n",
    "\n",
    "Niche Platforms:\n",
    "Niche platforms like the original Xbox, Wii U, Game Boy Advance, and GameCube exhibit varying degrees of popularity, showcasing their dedicated fanbases and unique contributions to gaming history.\n",
    "\n",
    "New Entrants and Retro Platforms:\n",
    "Platforms like Stadia, the cloud gaming initiative from Google, present a more recent addition to the gaming landscape with 313 games. Meanwhile, platforms from earlier gaming eras, such as the original PlayStation, Dreamcast, and Nintendo 64, continue to make their mark with their respective game counts."
   ]
  },
  {
   "attachments": {},
   "cell_type": "markdown",
   "metadata": {},
   "source": [
    " Distribution of Metascores and Userscores\n",
    " "
   ]
  },
  {
   "cell_type": "code",
   "execution_count": null,
   "metadata": {
    "vscode": {
     "languageId": "sql"
    }
   },
   "outputs": [],
   "source": [
    "-- Active: 1688313602053@@127.0.0.1@5432@Video_game@video_game\n",
    "SELECT  userscore, COUNT(*) AS userscore_count\n",
    "FROM video_game\n",
    "WHERE userscore <> 'tbd'\n",
    "GROUP BY userscore\n",
    "ORDER BY userscore_count DESC;\n",
    "SELECT  metascore, COUNT(*) AS metascore_count\n",
    "FROM video_game\n",
    "WHERE metascore <> 'tbd' \n",
    "GROUP BY metascore\n",
    "ORDER BY metascore_count DESC;\n",
    "\n"
   ]
  },
  {
   "attachments": {},
   "cell_type": "markdown",
   "metadata": {},
   "source": [
    "DISTRIBUTION OF USERSCORES"
   ]
  },
  {
   "attachments": {},
   "cell_type": "markdown",
   "metadata": {},
   "source": [
    "\n",
    "Variation in User Scores:\n",
    "The distribution of user scores provides an insight into the subjective opinions of players regarding the quality and enjoyment of games. The wide range of user scores indicates that players have diverse perspectives on different games.\n",
    "\n",
    "Central Tendency:\n",
    "The distribution seems to be centered around the mid-range user scores (between 6 and 8). This suggests that a significant number of players tend to rate games within this range, indicating that most games are generally received with moderate to positive feedback.\n",
    "\n",
    "Peak Scores:\n",
    "User scores of 7.8, 7.3, and 7.5 have relatively higher user counts. These scores might represent a range of games that are well-received and provide enjoyable experiences without necessarily being exceptional.\n",
    "\n",
    "Positive and Negative Extremes:\n",
    "At the positive extreme, user scores of 9 and above have relatively lower user counts. This could indicate that while some games are exceptionally well-received, they might be rarer. Similarly, at the negative extreme, very low user scores (below 3) are also less frequent, implying that games with extremely poor user reception are less common.\n",
    "\n",
    "Trend in Scores:\n",
    "The distribution suggests a decreasing trend in user counts as the scores move away from the mid-range. Scores around 6 to 8 are more common, while scores below 4 and above 9 become increasingly less frequent.\n",
    "\n",
    "\n",
    "Quality and Satisfaction:\n",
    "The distribution indirectly reflects the level of satisfaction players derive from games. Higher user scores generally indicate greater enjoyment and perceived quality, while lower scores might signify disappointment or dissatisfaction.\n",
    "\n",
    "Game Diversity:\n",
    "The diverse spread of user scores demonstrates that the gaming community's opinions are not uniform. Different games can evoke varying levels of enjoyment for different players, leading to a broad spectrum of scores.\n",
    "\n",
    "Outliers:\n",
    "Outliers, such as extremely high or low user scores, might represent exceptional cases where a game has resonated exceptionally well or poorly with a subset of players. These outliers could be influenced by factors like hype, controversy, or unique gameplay experiences.\n",
    "\n",
    "In summary, the distribution of user scores reflects the subjective nature of player opinions on games. It highlights the wide range of perspectives within the gaming community, from highly positive to more critical evaluations."
   ]
  },
  {
   "attachments": {},
   "cell_type": "markdown",
   "metadata": {},
   "source": [
    "DESTRIBUTION OF METASCORES"
   ]
  },
  {
   "attachments": {},
   "cell_type": "markdown",
   "metadata": {},
   "source": [
    "Distribution Peaks:\n",
    "The distribution of metascores is somewhat bell-shaped, with the highest frequencies observed around the mid-range scores. This indicates that a significant number of games have been assigned metascores within this range, reflecting a common trend in critical evaluation.\n",
    "\n",
    "Central Range:\n",
    "Scores between 70 and 80 have the highest frequency, suggesting that many games fall into this range. This central range often signifies games that are generally well-received but might not necessarily be considered exceptional.\n",
    "\n",
    "Moderately High and Low Scores:\n",
    "Metascores between 80 and 85 and scores between 65 and 70 also have notable frequencies. This might indicate that some games have garnered strong critical acclaim, while others have received mixed reviews or faced certain shortcomings.\n",
    "\n",
    "Exceptional Scores:\n",
    "Scores below 50 and above 90 are less frequent. Metascores above 90 usually indicate games that are widely regarded as outstanding, while scores below 50 often signify games with significant flaws or niche appeal.\n",
    "\n",
    "Skewness:\n",
    "The distribution appears to skew slightly towards the positive side, with more scores in the upper half than the lower half. This could imply that the dataset contains more well-received games than poorly received ones.\n",
    "\n",
    "Quality Assessment:\n",
    "Metascores serve as a rough indicator of the quality and reception of games. Higher scores generally suggest better gameplay, design, graphics, and overall execution. Conversely, lower scores might point to issues with the game's mechanics, story, technical aspects, or other factors.\n",
    "\n",
    "Thresholds:\n",
    "Certain metascore thresholds, such as 70 and 80, seem to serve as benchmarks for games of varying quality levels. Games that score below 70 might be seen as falling short of mainstream expectations, while those above 80 often stand out as exceptional titles.\n",
    "\n",
    "Variation within Tiers:\n",
    "Within score ranges like 70 to 80, there's likely considerable variation in terms of gameplay, genre, and player preferences. Some games with lower scores in this range might have unique strengths that appeal to specific audiences.\n",
    "\n",
    "Outliers:\n",
    "Outlying scores well above 90 or well below 50 might represent games with exceptional success or significant issues. These outliers can provide valuable insights into the gaming landscape, showcasing standouts and potential pitfalls.\n",
    "\n",
    "In summary, the distribution of metascores offers a snapshot of critical reception within the gaming community. It highlights the diverse range of opinions on games, from highly acclaimed to more divisive titles. "
   ]
  },
  {
   "attachments": {},
   "cell_type": "markdown",
   "metadata": {},
   "source": [
    " Distribution of Metascores and Userscores that are TBD"
   ]
  },
  {
   "cell_type": "code",
   "execution_count": null,
   "metadata": {
    "vscode": {
     "languageId": "sql"
    }
   },
   "outputs": [],
   "source": [
    "-- Active: 1688313602053@@127.0.0.1@5432@Video_game@video_game\n",
    "SELECT\n",
    "    (SELECT COUNT(*) FROM video_game) AS total_userscore,\n",
    "    (SELECT COUNT(*) FROM video_game WHERE userscore = 'tbd') AS total_userscoretbd,\n",
    "    (CAST((SELECT COUNT(*) FROM video_game WHERE userscore = 'tbd') AS FLOAT) / \n",
    "        (SELECT COUNT(*) FROM video_game)) AS tbd_to_totaluserscore\n",
    "FROM\n",
    "    video_game\n",
    "GROUP BY total_userscore;\n",
    "\n",
    "\n",
    "SELECT\n",
    "    (SELECT COUNT(*) FROM video_game) AS total_metascore,\n",
    "    (SELECT COUNT(*) FROM video_game WHERE metascore = 'tbd') AS total_metascoretbd,\n",
    "    (CAST((SELECT COUNT(*) FROM video_game WHERE metascore = 'tbd') AS FLOAT) / \n",
    "        (SELECT COUNT(*) FROM video_game)) AS tbd_to_totalmetascore\n",
    "FROM\n",
    "    video_game\n",
    "GROUP BY total_metascore;"
   ]
  },
  {
   "attachments": {},
   "cell_type": "markdown",
   "metadata": {},
   "source": [
    "DISTRIBUTION OF USERSCORES THAT ARE TBD"
   ]
  },
  {
   "attachments": {},
   "cell_type": "markdown",
   "metadata": {},
   "source": [
    "Total Userscores:\n",
    "The dataset contains a total of 142,417 userscores. This represents the cumulative count of userscores that have been assigned to various games within the dataset.\n",
    "\n",
    "Total Userscores that are TBD:\n",
    "Out of the total userscores, 105,986 have been marked as \"tbd,\" which stands for \"to be determined.\" This indicates that for these specific games, userscores have not yet been assigned or calculated. Such a scenario is common for games that are relatively new or have not yet received sufficient user reviews to determine an average score.\n",
    "\n",
    "TBD-to-Total Userscore Ratio:\n",
    "The ratio of \"tbd\" userscores to the total number of userscores is approximately 0.7442 (or about 74.42%). This ratio indicates the proportion of userscores that have not been determined yet in relation to the entire dataset. A ratio above 0.5 signifies that a significant portion of userscores falls under the \"tbd\" category.\n",
    "\n",
    "Interpretation:\n",
    "\n",
    "A higher total userscore count indicates a substantial dataset with a diverse range of games and their respective userscores.\n",
    "The presence of a large number of \"tbd\" userscores suggests that a significant portion of games in the dataset lacks sufficient user reviews to calculate a userscore.\n",
    "The relatively high \"tbd\" to total userscore ratio implies that a considerable portion of games, roughly three-fourths of them, have not yet been evaluated by users."
   ]
  },
  {
   "attachments": {},
   "cell_type": "markdown",
   "metadata": {},
   "source": [
    "DISTRIBUTION OF METASCORES THAT ARE TBD"
   ]
  },
  {
   "attachments": {},
   "cell_type": "markdown",
   "metadata": {},
   "source": [
    "Total Metascores:\n",
    "The dataset contains a total of 142,417 metascores. This represents the cumulative count of metascores that have been assigned to various games within the dataset.\n",
    "\n",
    "Total Metascores that are TBD:\n",
    "Out of the total metascores, 112,155 have been marked as \"tbd,\" which indicates that for these specific games, metascores have not yet been assigned or calculated. Similar to \"tbd\" userscores, this is often the case for games that are relatively new or have not yet received sufficient critical reviews to determine an average score.\n",
    "\n",
    "TBD-to-Total Metascore Ratio:\n",
    "The ratio of \"tbd\" metascores to the total number of metascores is approximately 0.7875 (or about 78.75%). This ratio signifies the proportion of metascores that have not been determined yet in relation to the entire dataset. A ratio above 0.5 indicates that a substantial portion of metascores falls under the \"tbd\" category.\n",
    "\n",
    "Interpretation:\n",
    "\n",
    "A higher total metascore count reflects a substantial dataset with a diverse range of games and their respective metascores.\n",
    "The significant number of \"tbd\" metascores suggests that a considerable portion of games in the dataset lacks sufficient critical reviews to calculate a metascore.\n",
    "The high \"tbd\" to total metascore ratio underscores that a substantial portion of games, almost four-fifths of them, have not yet received critical evaluation in terms of metascores."
   ]
  },
  {
   "attachments": {},
   "cell_type": "markdown",
   "metadata": {},
   "source": [
    "CHANGE IN METASCORES AND USERSCORE OVER TIME"
   ]
  },
  {
   "cell_type": "code",
   "execution_count": null,
   "metadata": {
    "vscode": {
     "languageId": "sql"
    }
   },
   "outputs": [],
   "source": [
    "-- Active: 1688313602053@@127.0.0.1@5432@Video_game@video_game\n",
    "SELECT year,\n",
    "        ROUND(avg_metascore) AS current_avg_metascore,\n",
    "        ROUND(LAG(avg_metascore) OVER (ORDER BY year )) AS prev_avg_metascore,\n",
    "        ROUND(avg_userscore)AS current_avg_userscore,\n",
    "        ROUND(LAG(avg_userscore) OVER (ORDER BY year)) AS prev_avg_userscore\n",
    "FROM\n",
    "    (SELECT TO_DATE(EXTRACT(YEAR FROM release_date)::text,'YYYY') AS year,\n",
    "        AVG(CASE WHEN metascore <> 'tbd' THEN CAST (metascore AS INT) END)  AS avg_metascore,\n",
    "        AVG(CASE WHEN userscore <> 'tbd' THEN CAST (userscore AS DECIMAL(4,2)) END) AS avg_userscore\n",
    "    FROM video_game\n",
    "    GROUP BY\n",
    "        year\n",
    "    HAVING\n",
    "        AVG(CASE WHEN metascore <> 'tbd' THEN CAST(metascore AS INT) END) IS NOT NULL\n",
    "        AND AVG(CASE WHEN userscore <> 'tbd' THEN CAST(userscore AS DECIMAL(4, 2)) END) IS NOT NULL\n",
    "    ) subquery\n",
    "ORDER BY year DESC;\n",
    "\n",
    "\n",
    "\n",
    "\n",
    "\n",
    "\n",
    "\n",
    "\n",
    "\n"
   ]
  },
  {
   "attachments": {},
   "cell_type": "markdown",
   "metadata": {},
   "source": [
    " The \"current_avg_metascore\" column represents the average metascore for each year, while the \"current_avg_userscore\" column reflects the average userscore within the same timeframe. This arrangement allows for a clear comparison between critical and player evaluations on an annual basis.\n",
    "\n",
    "By examining the \"prev_avg_metascore\" and \"prev_avg_userscore\" columns, the analysis delves into the dynamics of change year over year. These columns illustrate how the averages have shifted between consecutive years, enabling an understanding of the fluctuations in scores across different periods.\n",
    "\n",
    "The trends in metascores reveal interesting insights. In the earlier years, particularly in the 1990s, metascores tend to be relatively high, indicating a favorable reception among critics. Over the years, metascores exhibit fluctuations, yet an underlying stability persists, suggesting a consistent level of quality in the games being assessed.\n",
    "\n",
    "Userscores, on the other hand, display a similar pattern of stability. Across various years, the average userscore consistently hovers around the range of 6 to 7. This consistency suggests an enduring level of player satisfaction with the games released each year. Notably, there's a correlation between metascores and userscores, implying that critical acclaim often aligns with players' positive experiences.\n",
    "\n",
    "While the overall trends remain steady, a few exceptional years stand out. For instance, the year 2000 witnesses a notable surge in average userscores while metascores remain relatively high. This deviation from the general trend prompts further exploration into the specific games and factors that may have contributed to this exceptional year.\n",
    "\n",
    "As with any analysis, it's essential to consider that averages might not capture the nuances of individual game experiences. Additionally, the dataset lacks information about the number of games contributing to each average, potentially impacting the stability of the calculated scores."
   ]
  },
  {
   "attachments": {},
   "cell_type": "markdown",
   "metadata": {},
   "source": [
    "OVERALL TOP RATED GAME"
   ]
  },
  {
   "cell_type": "code",
   "execution_count": null,
   "metadata": {
    "vscode": {
     "languageId": "sql"
    }
   },
   "outputs": [],
   "source": [
    "-- Active: 1688313602053@@127.0.0.1@5432@Video_game@video_game\n",
    "SELECT \n",
    "    name AS top_rated_game,\n",
    "    platform,\n",
    "    metascore, \n",
    "    year\n",
    "FROM (\n",
    "    SELECT \n",
    "        name,\n",
    "        platform,\n",
    "        metascore,\n",
    "        TO_DATE(EXTRACT(YEAR FROM release_date)::TEXT,'YYYY') AS year,\n",
    "        ROW_NUMBER() OVER(PARTITION BY EXTRACT(YEAR FROM release_date) ORDER BY metascore DESC) AS rank_within_year\n",
    "    FROM video_game\n",
    "    WHERE metascore <> 'tbd'\n",
    ") ranked_games\n",
    "WHERE rank_within_year = 1\n",
    "ORDER BY year DESC;\n",
    "\n"
   ]
  },
  {
   "attachments": {},
   "cell_type": "markdown",
   "metadata": {},
   "source": [
    "TOP RATED GAME FOR ALL PLATFORM"
   ]
  },
  {
   "cell_type": "code",
   "execution_count": null,
   "metadata": {
    "vscode": {
     "languageId": "sql"
    }
   },
   "outputs": [],
   "source": [
    "-- Active: 1688313602053@@127.0.0.1@5432@Video_game@video_game\n",
    "WITH RankedGames AS (\n",
    "    SELECT \n",
    "        name AS top_rated_game,\n",
    "        platform,\n",
    "        EXTRACT(YEAR FROM release_date) AS year,\n",
    "        metascore,\n",
    "        ROW_NUMBER() OVER(PARTITION BY platform, EXTRACT(YEAR FROM release_date) ORDER BY metascore DESC) AS rank_within_platform_year\n",
    "    FROM video_game\n",
    "    WHERE metascore <> 'tbd'\n",
    ")\n",
    "SELECT \n",
    "    top_rated_game,\n",
    "    platform,\n",
    "    year,\n",
    "    metascore\n",
    "FROM RankedGames\n",
    "WHERE rank_within_platform_year = 1\n",
    "ORDER BY year DESC, platform ;\n",
    "\n"
   ]
  }
 ],
 "metadata": {
  "kernelspec": {
   "display_name": "Python 3",
   "language": "python",
   "name": "python3"
  },
  "language_info": {
   "codemirror_mode": {
    "name": "ipython",
    "version": 3
   },
   "file_extension": ".py",
   "mimetype": "text/x-python",
   "name": "python",
   "nbconvert_exporter": "python",
   "pygments_lexer": "ipython3",
   "version": "3.11.3"
  },
  "orig_nbformat": 4
 },
 "nbformat": 4,
 "nbformat_minor": 2
}
